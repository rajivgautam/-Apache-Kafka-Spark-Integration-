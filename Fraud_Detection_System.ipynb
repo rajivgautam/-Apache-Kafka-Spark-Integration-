{
 "cells": [
  {
   "cell_type": "code",
   "execution_count": 1,
   "metadata": {},
   "outputs": [],
   "source": [
    "import os\n",
    "os.environ['PYSPARK_SUBMIT_ARGS'] = '--packages org.apache.spark:spark-streaming-kafka-0-8_2.11:2.0.2 pyspark-shell'"
   ]
  },
  {
   "cell_type": "code",
   "execution_count": 2,
   "metadata": {},
   "outputs": [],
   "source": [
    "import os\n",
    "import ast\n",
    "import pandas as pd\n",
    "import numpy as np\n",
    "import matplotlib.pyplot as plt \n",
    "from operator import add\n",
    "from pyspark import SparkContext\n",
    "from pyspark.sql import SparkSession\n",
    "from pyspark.sql import SQLContext\n",
    "from pyspark.sql import functions as F\n",
    "from pyspark.sql.types import StructType, StructField, IntegerType, StringType, DoubleType\n",
    "from pyspark import SparkConf, SparkContext\n",
    "from kafka import KafkaProducer\n",
    "from pyspark.ml.feature import VectorAssembler \n",
    "from pyspark.ml.classification import LogisticRegression\n",
    "from pyspark.ml.evaluation import BinaryClassificationEvaluator\n",
    "from pyspark.streaming import StreamingContext\n",
    "from pyspark.streaming.kafka import KafkaUtils\n",
    "from sklearn.model_selection import train_test_split\n",
    "from sklearn.metrics import roc_curve "
   ]
  },
  {
   "cell_type": "code",
   "execution_count": 3,
   "metadata": {},
   "outputs": [],
   "source": [
    "sparkConf = SparkConf().setAppName(\"SPA_Fraud_Detection_System\").setMaster(\"local\")\n",
    "sparkContext = SparkContext(conf=sparkConf)\n",
    "streamingSparkContext = StreamingContext(sparkContext,5)\n",
    "sparkSession = SparkSession(sparkContext)\n",
    "sqlContext = SQLContext(sparkContext)"
   ]
  },
  {
   "cell_type": "markdown",
   "metadata": {},
   "source": [
    "Seting up Master Transaction Data for model Building"
   ]
  },
  {
   "cell_type": "code",
   "execution_count": 4,
   "metadata": {},
   "outputs": [],
   "source": [
    "def init_train_test_data():\n",
    "    f = open(r'training_dataset.csv', 'w')\n",
    "    f.close()\n",
    "    master_df = pd.read_csv('PS_20174392719_1491204439457_log.csv')\n",
    "    X_train, X_test = train_test_split(master_df, shuffle=True, test_size=0.90)\n",
    "    X_test,Junk = train_test_split(X_test, shuffle=True, test_size=0.95)\n",
    "    X_train.to_csv('training_dataset.csv',index=False)\n",
    "    X_test.to_csv('cross_validation_dataset.csv',index=False)"
   ]
  },
  {
   "cell_type": "code",
   "execution_count": 5,
   "metadata": {},
   "outputs": [
    {
     "name": "stdout",
     "output_type": "stream",
     "text": [
      "root\n",
      " |-- step: integer (nullable = true)\n",
      " |-- type: string (nullable = true)\n",
      " |-- amount: double (nullable = true)\n",
      " |-- nameOrig: string (nullable = true)\n",
      " |-- oldbalanceOrg: double (nullable = true)\n",
      " |-- newbalanceOrig: double (nullable = true)\n",
      " |-- nameDest: string (nullable = true)\n",
      " |-- oldbalanceDest: double (nullable = true)\n",
      " |-- newbalanceDest: double (nullable = true)\n",
      " |-- isFraud: integer (nullable = true)\n",
      " |-- isFlaggedFraud: integer (nullable = true)\n",
      "\n",
      "+----+--------+---------+-----------+-------------+--------------+-----------+--------------+--------------+-------+--------------+\n",
      "|step|    type|   amount|   nameOrig|oldbalanceOrg|newbalanceOrig|   nameDest|oldbalanceDest|newbalanceDest|isFraud|isFlaggedFraud|\n",
      "+----+--------+---------+-----------+-------------+--------------+-----------+--------------+--------------+-------+--------------+\n",
      "| 356|CASH_OUT| 46886.37| C609955605|      51965.0|       5078.63| C253962342|     195060.82|     241947.19|      0|             0|\n",
      "| 352| PAYMENT| 21882.24| C829142557|      75258.7|      53376.46|  M40923567|           0.0|           0.0|      0|             0|\n",
      "|   8|CASH_OUT|251454.18|  C76892276|          0.0|           0.0|  C97730845| 1.667887586E7| 2.300538541E7|      0|             0|\n",
      "| 303|CASH_OUT| 99061.54|C1630447448|          0.0|           0.0|C1947803120|      530912.6|     629974.14|      0|             0|\n",
      "| 227| PAYMENT| 12147.83|C1282572178|          0.0|           0.0|M1194731194|           0.0|           0.0|      0|             0|\n",
      "+----+--------+---------+-----------+-------------+--------------+-----------+--------------+--------------+-------+--------------+\n",
      "only showing top 5 rows\n",
      "\n",
      "step \t with null values:  0\n",
      "type \t with null values:  0\n",
      "amount \t with null values:  0\n",
      "nameOrig \t with null values:  0\n",
      "oldbalanceOrg \t with null values:  0\n",
      "newbalanceOrig \t with null values:  0\n",
      "nameDest \t with null values:  0\n",
      "oldbalanceDest \t with null values:  0\n",
      "newbalanceDest \t with null values:  0\n",
      "isFraud \t with null values:  0\n",
      "isFlaggedFraud \t with null values:  0\n",
      "+----+--------+---------+-----------+-------------+--------------+-----------+--------------+--------------+-------+--------------+--------------------+--------------------+\n",
      "|step|    type|   amount|   nameOrig|oldbalanceOrg|newbalanceOrig|   nameDest|oldbalanceDest|newbalanceDest|isFraud|isFlaggedFraud|          Error_Orig|          Error_Dest|\n",
      "+----+--------+---------+-----------+-------------+--------------+-----------+--------------+--------------+-------+--------------+--------------------+--------------------+\n",
      "| 356|CASH_OUT| 46886.37| C609955605|      51965.0|       5078.63| C253962342|     195060.82|     241947.19|      0|             0|                 0.0|7.275957614183426...|\n",
      "| 352| PAYMENT| 21882.24| C829142557|      75258.7|      53376.46|  M40923567|           0.0|           0.0|      0|             0|-3.63797880709171...|            21882.24|\n",
      "|   8|CASH_OUT|251454.18|  C76892276|          0.0|           0.0|  C97730845| 1.667887586E7| 2.300538541E7|      0|             0|          -251454.18|  -6075055.370000001|\n",
      "| 303|CASH_OUT| 99061.54|C1630447448|          0.0|           0.0|C1947803120|      530912.6|     629974.14|      0|             0|           -99061.54|-4.36557456851005...|\n",
      "| 227| PAYMENT| 12147.83|C1282572178|          0.0|           0.0|M1194731194|           0.0|           0.0|      0|             0|           -12147.83|            12147.83|\n",
      "+----+--------+---------+-----------+-------------+--------------+-----------+--------------+--------------+-------+--------------+--------------------+--------------------+\n",
      "only showing top 5 rows\n",
      "\n",
      "step \t with null values:  0\n",
      "type \t with null values:  0\n",
      "amount \t with null values:  0\n",
      "nameOrig \t with null values:  0\n",
      "oldbalanceOrg \t with null values:  0\n",
      "newbalanceOrig \t with null values:  0\n",
      "nameDest \t with null values:  0\n",
      "oldbalanceDest \t with null values:  0\n",
      "newbalanceDest \t with null values:  0\n",
      "isFraud \t with null values:  0\n",
      "isFlaggedFraud \t with null values:  0\n",
      "+----+--------+---------+-----------+-------------+--------------+-----------+--------------+--------------+-------+--------------+------------------+--------------------+\n",
      "|step|    type|   amount|   nameOrig|oldbalanceOrg|newbalanceOrig|   nameDest|oldbalanceDest|newbalanceDest|isFraud|isFlaggedFraud|        Error_Orig|          Error_Dest|\n",
      "+----+--------+---------+-----------+-------------+--------------+-----------+--------------+--------------+-------+--------------+------------------+--------------------+\n",
      "| 187|TRANSFER|249850.99| C679137037|          0.0|           0.0|C1669221239|    2948496.47|    3198347.47|      0|             0|        -249850.99|-0.01000000000931...|\n",
      "| 323|TRANSFER|1125870.8|  C43183342|          0.0|           0.0| C480704739|    2617896.16|    3743766.95|      0|             0|        -1125870.8|0.010000000009313226|\n",
      "| 377| CASH_IN| 35374.67|C2119276734|   2136699.38|    2172074.05|C1943967969|    1550810.05|    1515435.37|      0|             0|-70749.33999999992|   70749.34999999993|\n",
      "| 153|CASH_OUT|257510.14| C908092369|       1291.0|           0.0|C1262084365|       5696.32|     263206.46|      0|             0|        -256219.14|                 0.0|\n",
      "|  13| PAYMENT|  1710.75| C763318844|      24567.3|      22856.55| M806155216|           0.0|           0.0|      0|             0|               0.0|             1710.75|\n",
      "+----+--------+---------+-----------+-------------+--------------+-----------+--------------+--------------+-------+--------------+------------------+--------------------+\n",
      "only showing top 5 rows\n",
      "\n"
     ]
    }
   ],
   "source": [
    "init_train_test_data()\n",
    "data = sparkSession.read.csv('training_dataset.csv', inferSchema=True, header=True)\n",
    "data_validation = sparkSession.read.csv('cross_validation_dataset.csv', inferSchema=True, header=True)\n",
    "data.count()\n",
    "data.printSchema() \n",
    "data.dtypes\n",
    "data.show(5)\n",
    "\n",
    "def pre_process_data(data):\n",
    "    for col in data.columns:\n",
    "        print(col, \"\\t\", \"with null values: \", data.filter(data[col].isNull()).count())\n",
    "    data = data.withColumn(\"Error_Orig\",F.col(\"oldbalanceOrg\") - F.col(\"newbalanceOrig\") - F.col(\"amount\"))\n",
    "    data = data.withColumn(\"Error_Dest\",F.col(\"oldbalanceDest\") - F.col(\"newbalanceDest\") + F.col(\"amount\"))\n",
    "    data.show(5)\n",
    "    return data\n",
    "\n",
    "data = pre_process_data(data)\n",
    "data_validation = pre_process_data(data_validation)"
   ]
  },
  {
   "cell_type": "markdown",
   "metadata": {},
   "source": [
    "Model Building - Starting Vector Assembly for data pre-processing"
   ]
  },
  {
   "cell_type": "code",
   "execution_count": 6,
   "metadata": {},
   "outputs": [
    {
     "name": "stdout",
     "output_type": "stream",
     "text": [
      "Train data\n",
      "root\n",
      " |-- step: integer (nullable = true)\n",
      " |-- type: string (nullable = true)\n",
      " |-- amount: double (nullable = true)\n",
      " |-- nameOrig: string (nullable = true)\n",
      " |-- oldbalanceOrg: double (nullable = true)\n",
      " |-- newbalanceOrig: double (nullable = true)\n",
      " |-- nameDest: string (nullable = true)\n",
      " |-- oldbalanceDest: double (nullable = true)\n",
      " |-- newbalanceDest: double (nullable = true)\n",
      " |-- isFraud: integer (nullable = true)\n",
      " |-- isFlaggedFraud: integer (nullable = true)\n",
      " |-- Error_Orig: double (nullable = true)\n",
      " |-- Error_Dest: double (nullable = true)\n",
      " |-- features: vector (nullable = true)\n",
      "\n",
      "Test data\n",
      "root\n",
      " |-- step: integer (nullable = true)\n",
      " |-- type: string (nullable = true)\n",
      " |-- amount: double (nullable = true)\n",
      " |-- nameOrig: string (nullable = true)\n",
      " |-- oldbalanceOrg: double (nullable = true)\n",
      " |-- newbalanceOrig: double (nullable = true)\n",
      " |-- nameDest: string (nullable = true)\n",
      " |-- oldbalanceDest: double (nullable = true)\n",
      " |-- newbalanceDest: double (nullable = true)\n",
      " |-- isFraud: integer (nullable = true)\n",
      " |-- isFlaggedFraud: integer (nullable = true)\n",
      " |-- Error_Orig: double (nullable = true)\n",
      " |-- Error_Dest: double (nullable = true)\n",
      " |-- features: vector (nullable = true)\n",
      "\n"
     ]
    }
   ],
   "source": [
    "assembler = VectorAssembler(inputCols=['amount', 'oldbalanceOrg', 'newbalanceOrig', 'oldbalanceDest', \n",
    "                                       'newbalanceDest', 'Error_Orig', 'Error_Dest'], \n",
    "                            outputCol='features') \n",
    "print('Train data')\n",
    "mldata = assembler.transform(data)\n",
    "mldata_validation = assembler.transform(data_validation)\n",
    "mldata.printSchema()\n",
    "print('Test data')\n",
    "mldata_validation.printSchema()\n",
    "transdata = mldata.select('features','isFraud')\n",
    "transdata_validation = mldata_validation.select('features','isFraud')"
   ]
  },
  {
   "cell_type": "code",
   "execution_count": 7,
   "metadata": {},
   "outputs": [
    {
     "name": "stdout",
     "output_type": "stream",
     "text": [
      "+-------+----------+------+\n",
      "|isFraud|prediction| count|\n",
      "+-------+----------+------+\n",
      "|      1|       0.0|   188|\n",
      "|      0|       0.0|285915|\n",
      "|      1|       1.0|   186|\n",
      "|      0|       1.0|    28|\n",
      "+-------+----------+------+\n",
      "\n"
     ]
    }
   ],
   "source": [
    "lr = LogisticRegression(labelCol='isFraud', featuresCol='features')\n",
    "lrModel = lr.fit(transdata)\n",
    "prediction = lrModel.transform(transdata_validation)\n",
    "\n",
    "# confusion matrix\n",
    "pred = prediction.groupBy(\"isFraud\", \"prediction\").count()\n",
    "pred.show()"
   ]
  },
  {
   "cell_type": "code",
   "execution_count": 8,
   "metadata": {},
   "outputs": [],
   "source": [
    "def plot_roc_cur(your_model):  \n",
    "    plt.figure(figsize=(5,5))\n",
    "    plt.plot([0, 1], [0, 1], 'r--')\n",
    "    plt.plot(your_model.summary.roc.select('FPR').collect(),\n",
    "             your_model.summary.roc.select('TPR').collect())\n",
    "    plt.xlabel('FPR')\n",
    "    plt.ylabel('TPR')\n",
    "    plt.show()"
   ]
  },
  {
   "cell_type": "code",
   "execution_count": 9,
   "metadata": {},
   "outputs": [
    {
     "name": "stdout",
     "output_type": "stream",
     "text": [
      "+--------------------+-------+--------------------+--------------------+----------+\n",
      "|            features|isFraud|       rawPrediction|         probability|prediction|\n",
      "+--------------------+-------+--------------------+--------------------+----------+\n",
      "|[249850.99,0.0,0....|      0|[16.1395557174608...|[0.99999990212315...|       0.0|\n",
      "|[1125870.8,0.0,0....|      0|[46.6304396111113...|[1.0,5.6060554381...|       0.0|\n",
      "|[35374.67,2136699...|      0|[18.9873511559597...|[0.99999999432588...|       0.0|\n",
      "|[257510.14,1291.0...|      0|[15.6051842951764...|[0.99999983298537...|       0.0|\n",
      "|[1710.75,24567.3,...|      0|[6.74505092675124...|[0.99882469421624...|       0.0|\n",
      "+--------------------+-------+--------------------+--------------------+----------+\n",
      "only showing top 5 rows\n",
      "\n",
      "Test Area Under ROC: \n"
     ]
    },
    {
     "data": {
      "image/png": "[encoded data removed]",
      "text/plain": [
       "<Figure size 360x360 with 1 Axes>"
      ]
     },
     "metadata": {
      "needs_background": "light"
     },
     "output_type": "display_data"
    },
    {
     "data": {
      "text/plain": [
       "0.748614140797404"
      ]
     },
     "execution_count": 9,
     "metadata": {},
     "output_type": "execute_result"
    }
   ],
   "source": [
    "isFraud_eval = BinaryClassificationEvaluator(rawPredictionCol='prediction',\n",
    "                                           labelCol='isFraud')\n",
    "testmodel = lrModel.evaluate(transdata_validation)\n",
    "predictions = testmodel.predictions\n",
    "predictions.show(5)\n",
    "areaUnderCurve = isFraud_eval.evaluate(testmodel.predictions)\n",
    "print('Test Area Under ROC: ')\n",
    "plot_roc_cur(lrModel)\n",
    "areaUnderCurve"
   ]
  },
  {
   "cell_type": "markdown",
   "metadata": {},
   "source": [
    "Initializing Live Feeds stream for Alerting"
   ]
  },
  {
   "cell_type": "code",
   "execution_count": 10,
   "metadata": {},
   "outputs": [],
   "source": [
    "producer = KafkaProducer(\n",
    "#    bootstrap_servers=['localhost:9999'],\n",
    "    bootstrap_servers=['localhost:9092'],    \n",
    "    api_version=(0, 10, 1)\n",
    ")\n",
    "alertStream=producer.send('SystemStatus', b'Initializing Alert stream!')"
   ]
  },
  {
   "cell_type": "code",
   "execution_count": 11,
   "metadata": {},
   "outputs": [],
   "source": [
    "def alertTransaction(feed,topic):      \n",
    "        producer.send(topic, (feed+\"\").encode('utf-8'))"
   ]
  },
  {
   "cell_type": "code",
   "execution_count": 12,
   "metadata": {},
   "outputs": [],
   "source": [
    "def process_transaction(df_orig):\n",
    "    #df_orig = sqlContext.createDataFrame(rdd, schema)\n",
    "    df = df_orig.select('amount','oldbalanceOrg','newbalanceOrig','oldbalanceDest','newbalanceDest')\n",
    "    df = df.withColumn(\"Error_Orig\",F.col(\"oldbalanceOrg\") - F.col(\"newbalanceOrig\") - F.col(\"amount\"))\n",
    "    df = df.withColumn(\"Error_Dest\",F.col(\"oldbalanceDest\") - F.col(\"newbalanceDest\") + F.col(\"amount\"))\n",
    "    \n",
    "    #---------- Invoking model for prediction --------------\n",
    "    assembler = VectorAssembler(inputCols=['amount', 'oldbalanceOrg', 'newbalanceOrig', 'oldbalanceDest', \n",
    "                                       'newbalanceDest', 'Error_Orig', 'Error_Dest'], \n",
    "                            outputCol='features') \n",
    "    ml_df = assembler.transform(df)\n",
    "    trans_df = ml_df.select('features')\n",
    "    \n",
    "    # Prediction\n",
    "    prediction = lrModel.transform(trans_df)\n",
    "    prediction_f = prediction.select('prediction')\n",
    "    df_orig = df_orig.withColumn(\"id\", F.monotonically_increasing_id())\n",
    "    prediction_f = prediction_f.withColumn(\"id\", F.monotonically_increasing_id())\n",
    "    df_mrg = df_orig.join(prediction_f, on='id', how='inner').drop(\"id\")\n",
    "\n",
    "    # processing complete - Publishing it to other downstream services for consumption.\n",
    "    for row in df_mrg.rdd.collect():\n",
    "        feed = \" \" + str(row)\n",
    "        if row['prediction'] == 0:\n",
    "            print(\"Success:\" + feed)\n",
    "            #Messaging services can consume from this Topic - SuccesfullTransactionFeed\n",
    "            alertTransaction(\"Success:\" + feed,'SuccesfullTransactionFeed') \n",
    "        else:\n",
    "            print(\"Flagged:\" + feed)\n",
    "            #Seurity messaging services can consume from this Topic - FraudTransactionFeed\n",
    "            alertTransaction(\"Flagged:\" + feed,'FraudTransactionFeed')  "
   ]
  },
  {
   "cell_type": "code",
   "execution_count": 13,
   "metadata": {},
   "outputs": [],
   "source": [
    "def tryeval(val):\n",
    "    try:\n",
    "        val = ast.literal_eval(val)\n",
    "    except ValueError:\n",
    "        pass\n",
    "    return val"
   ]
  },
  {
   "cell_type": "code",
   "execution_count": 14,
   "metadata": {},
   "outputs": [],
   "source": [
    "def flag_fraud_transaction(rdd):\n",
    "    if rdd.isEmpty():\n",
    "        return \n",
    "    list = []\n",
    "    rdd.foreach(lambda rec: open(r\"master_dataset.csv\", \"a\").write(','.join(filter(None, rec))+'\\n'))\n",
    "    list = rdd.map(lambda rec: [tryeval(x) for x in rec[1].split(',')]).collect()\n",
    "    #master_data = [tryeval(x) for x in list]\n",
    "    #print(list)\n",
    "    #rdd.foreach(lambda row: list.append('%'.join(filter(None, row)).split('%')))\n",
    "    # create dataframe\n",
    "    df = sparkContext.parallelize(list).toDF([\"step\",\"type\",\"amount\",\"nameOrig\",\"oldbalanceOrg\",\"newbalanceOrig\",\"nameDest\",\"oldbalanceDest\",\"newbalanceDest\"])\n",
    "    process_transaction(df)"
   ]
  },
  {
   "cell_type": "markdown",
   "metadata": {},
   "source": [
    "Model Building - Complete, System Ready for classification"
   ]
  },
  {
   "cell_type": "markdown",
   "metadata": {},
   "source": [
    "Start Stream Processing from Kafka Topic - LiveFeed"
   ]
  },
  {
   "cell_type": "code",
   "execution_count": 15,
   "metadata": {},
   "outputs": [],
   "source": [
    "#Create a DStream that will connect to Kafka Broker at localhost:9092\n",
    "topic='LiveFeed'\n",
    "brokers='localhost:9092'\n",
    "f = open(r'master_dataset.csv', 'w')\n",
    "f.close()\n",
    "kafkaStream = KafkaUtils.createDirectStream(streamingSparkContext, [topic], {\"metadata.broker.list\": brokers})"
   ]
  },
  {
   "cell_type": "code",
   "execution_count": 16,
   "metadata": {},
   "outputs": [],
   "source": [
    "lines = kafkaStream.map(lambda x: x[1])\n",
    "type(lines)\n",
    "\n",
    "#def savetheresult( rdd ):\n",
    "#    if not rdd.isEmpty():\n",
    "#        rdd.foreach(lambda rec: open(r\"master_dataset.csv\", \"a\").write(','.join(filter(None, rec))+'\\n'))       \n",
    "#kafkaStream.foreachRDD(savetheresult)\n",
    "\n",
    "kafkaStream.foreachRDD(flag_fraud_transaction)\n",
    "#lines.pprint()"
   ]
  },
  {
   "cell_type": "markdown",
   "metadata": {},
   "source": [
    "Fraud Detection System is Running."
   ]
  },
  {
   "cell_type": "code",
   "execution_count": null,
   "metadata": {
    "scrolled": false
   },
   "outputs": [
    {
     "name": "stdout",
     "output_type": "stream",
     "text": [
      "Success: Row(step=6, type='PAYMENT', amount=10438.03, nameOrig='C1471230198', oldbalanceOrg=0.0, newbalanceOrig=0.0, nameDest='M1743032972', oldbalanceDest=0.0, newbalanceDest=0.0, prediction=0.0)\n",
      "Success: Row(step=6, type='PAYMENT', amount=45923.16, nameOrig='C751180603', oldbalanceOrg=0.0, newbalanceOrig=0.0, nameDest='M1927763846', oldbalanceDest=0.0, newbalanceDest=0.0, prediction=0.0)\n",
      "Success: Row(step=6, type='PAYMENT', amount=14479.12, nameOrig='C739241900', oldbalanceOrg=0.0, newbalanceOrig=0.0, nameDest='M1874622547', oldbalanceDest=0.0, newbalanceDest=0.0, prediction=0.0)\n",
      "Success: Row(step=6, type='PAYMENT', amount=5435.22, nameOrig='C1754096028', oldbalanceOrg=0.0, newbalanceOrig=0.0, nameDest='M1686106686', oldbalanceDest=0.0, newbalanceDest=0.0, prediction=0.0)\n",
      "Success: Row(step=6, type='PAYMENT', amount=16906.99, nameOrig='C1933551964', oldbalanceOrg=0.0, newbalanceOrig=0.0, nameDest='M992775130', oldbalanceDest=0.0, newbalanceDest=0.0, prediction=0.0)\n",
      "Success: Row(step=6, type='PAYMENT', amount=23795.0, nameOrig='C1778700964', oldbalanceOrg=0.0, newbalanceOrig=0.0, nameDest='M900327013', oldbalanceDest=0.0, newbalanceDest=0.0, prediction=0.0)\n",
      "Success: Row(step=6, type='PAYMENT', amount=1861.63, nameOrig='C908845261', oldbalanceOrg=0.0, newbalanceOrig=0.0, nameDest='M769526324', oldbalanceDest=0.0, newbalanceDest=0.0, prediction=0.0)\n",
      "Success: Row(step=6, type='PAYMENT', amount=6185.83, nameOrig='C1636003033', oldbalanceOrg=0.0, newbalanceOrig=0.0, nameDest='M459482178', oldbalanceDest=0.0, newbalanceDest=0.0, prediction=0.0)\n",
      "Success: Row(step=6, type='PAYMENT', amount=20667.76, nameOrig='C1433070882', oldbalanceOrg=30880.0, newbalanceOrig=10212.24, nameDest='M1470726905', oldbalanceDest=0.0, newbalanceDest=0.0, prediction=0.0)\n",
      "Success: Row(step=6, type='PAYMENT', amount=10701.92, nameOrig='C1915196011', oldbalanceOrg=52408.0, newbalanceOrig=41706.08, nameDest='M796240305', oldbalanceDest=0.0, newbalanceDest=0.0, prediction=0.0)\n",
      "Success: Row(step=6, type='PAYMENT', amount=13268.31, nameOrig='C433321645', oldbalanceOrg=861.0, newbalanceOrig=0.0, nameDest='M459930631', oldbalanceDest=0.0, newbalanceDest=0.0, prediction=0.0)\n",
      "Success: Row(step=6, type='PAYMENT', amount=1143.34, nameOrig='C434635189', oldbalanceOrg=21890.0, newbalanceOrig=20746.66, nameDest='M38659643', oldbalanceDest=0.0, newbalanceDest=0.0, prediction=0.0)\n",
      "Success: Row(step=6, type='PAYMENT', amount=7658.66, nameOrig='C70061633', oldbalanceOrg=31676.0, newbalanceOrig=24017.34, nameDest='M1357927175', oldbalanceDest=0.0, newbalanceDest=0.0, prediction=0.0)\n",
      "Success: Row(step=6, type='PAYMENT', amount=8534.32, nameOrig='C149816309', oldbalanceOrg=10845.0, newbalanceOrig=2310.68, nameDest='M1523843460', oldbalanceDest=0.0, newbalanceDest=0.0, prediction=0.0)\n",
      "Success: Row(step=6, type='PAYMENT', amount=3494.07, nameOrig='C164365573', oldbalanceOrg=30921.0, newbalanceOrig=27426.93, nameDest='M1683834425', oldbalanceDest=0.0, newbalanceDest=0.0, prediction=0.0)\n",
      "Success: Row(step=6, type='PAYMENT', amount=7994.53, nameOrig='C861520886', oldbalanceOrg=2310.68, newbalanceOrig=0.0, nameDest='M1027286826', oldbalanceDest=0.0, newbalanceDest=0.0, prediction=0.0)\n",
      "Success: Row(step=6, type='PAYMENT', amount=12770.33, nameOrig='C1169324755', oldbalanceOrg=11547.0, newbalanceOrig=0.0, nameDest='M1066437568', oldbalanceDest=0.0, newbalanceDest=0.0, prediction=0.0)\n",
      "Success: Row(step=6, type='DEBIT', amount=3340.01, nameOrig='C1110157751', oldbalanceOrg=20051.0, newbalanceOrig=16710.99, nameDest='C1129670968', oldbalanceDest=36991.08, newbalanceDest=22269.36, prediction=0.0)\n",
      "Success: Row(step=6, type='PAYMENT', amount=14199.19, nameOrig='C1267338499', oldbalanceOrg=631.0, newbalanceOrig=0.0, nameDest='M1425241044', oldbalanceDest=0.0, newbalanceDest=0.0, prediction=0.0)\n",
      "Success: Row(step=6, type='PAYMENT', amount=20206.61, nameOrig='C651023535', oldbalanceOrg=10494.0, newbalanceOrig=0.0, nameDest='M1887389255', oldbalanceDest=0.0, newbalanceDest=0.0, prediction=0.0)\n",
      "Success: Row(step=6, type='PAYMENT', amount=18557.06, nameOrig='C475249993', oldbalanceOrg=18956.0, newbalanceOrig=398.94, nameDest='M378838522', oldbalanceDest=0.0, newbalanceDest=0.0, prediction=0.0)\n",
      "Success: Row(step=6, type='PAYMENT', amount=19914.62, nameOrig='C225273918', oldbalanceOrg=147930.0, newbalanceOrig=128015.38, nameDest='M1120917396', oldbalanceDest=0.0, newbalanceDest=0.0, prediction=0.0)\n",
      "Success: Row(step=6, type='PAYMENT', amount=11184.15, nameOrig='C1131905905', oldbalanceOrg=5027.0, newbalanceOrig=0.0, nameDest='M1908321704', oldbalanceDest=0.0, newbalanceDest=0.0, prediction=0.0)\n",
      "Success: Row(step=6, type='PAYMENT', amount=6736.46, nameOrig='C1411932985', oldbalanceOrg=205056.0, newbalanceOrig=198319.54, nameDest='M1350518777', oldbalanceDest=0.0, newbalanceDest=0.0, prediction=0.0)\n",
      "Success: Row(step=6, type='PAYMENT', amount=6854.54, nameOrig='C401872697', oldbalanceOrg=0.0, newbalanceOrig=0.0, nameDest='M725291300', oldbalanceDest=0.0, newbalanceDest=0.0, prediction=0.0)\n",
      "Success: Row(step=6, type='PAYMENT', amount=21287.77, nameOrig='C1736826640', oldbalanceOrg=70528.0, newbalanceOrig=49240.23, nameDest='M340017397', oldbalanceDest=0.0, newbalanceDest=0.0, prediction=0.0)\n",
      "Success: Row(step=6, type='PAYMENT', amount=18791.59, nameOrig='C65194223', oldbalanceOrg=91248.0, newbalanceOrig=72456.41, nameDest='M688392165', oldbalanceDest=0.0, newbalanceDest=0.0, prediction=0.0)\n",
      "Success: Row(step=6, type='TRANSFER', amount=381018.8, nameOrig='C1622945931', oldbalanceOrg=72456.41, newbalanceOrig=0.0, nameDest='C667346055', oldbalanceDest=9827546.97, newbalanceDest=10415456.02, prediction=0.0)\n",
      "Success: Row(step=6, type='TRANSFER', amount=564301.75, nameOrig='C1140430871', oldbalanceOrg=0.0, newbalanceOrig=0.0, nameDest='C803116137', oldbalanceDest=13071229.35, newbalanceDest=15517661.96, prediction=0.0)\n",
      "Success: Row(step=6, type='TRANSFER', amount=67316.99, nameOrig='C1447663489', oldbalanceOrg=0.0, newbalanceOrig=0.0, nameDest='C1668376627', oldbalanceDest=195932.4, newbalanceDest=100207.22, prediction=0.0)\n",
      "Success: Row(step=6, type='TRANSFER', amount=1221819.02, nameOrig='C707238050', oldbalanceOrg=0.0, newbalanceOrig=0.0, nameDest='C1838584624', oldbalanceDest=5149771.61, newbalanceDest=8245234.16, prediction=0.0)\n",
      "Success: Row(step=6, type='TRANSFER', amount=340473.03, nameOrig='C731827461', oldbalanceOrg=0.0, newbalanceOrig=0.0, nameDest='C1838584624', oldbalanceDest=6371590.62, newbalanceDest=8245234.16, prediction=0.0)\n",
      "Success: Row(step=6, type='TRANSFER', amount=1545681.21, nameOrig='C837923432', oldbalanceOrg=0.0, newbalanceOrig=0.0, nameDest='C1590550415', oldbalanceDest=16420556.26, newbalanceDest=17811814.09, prediction=0.0)\n",
      "Success: Row(step=6, type='TRANSFER', amount=536060.03, nameOrig='C674480275', oldbalanceOrg=0.0, newbalanceOrig=0.0, nameDest='C909295153', oldbalanceDest=6661385.87, newbalanceDest=9197383.11, prediction=0.0)\n",
      "Success: Row(step=6, type='TRANSFER', amount=484328.78, nameOrig='C1053273441', oldbalanceOrg=0.0, newbalanceOrig=0.0, nameDest='C1983747920', oldbalanceDest=579414.69, newbalanceDest=874685.77, prediction=0.0)\n",
      "Success: Row(step=6, type='TRANSFER', amount=66860.4, nameOrig='C1972950645', oldbalanceOrg=0.0, newbalanceOrig=0.0, nameDest='C1922859107', oldbalanceDest=609485.61, newbalanceDest=629441.42, prediction=0.0)\n",
      "Success: Row(step=6, type='TRANSFER', amount=641213.85, nameOrig='C1229342812', oldbalanceOrg=0.0, newbalanceOrig=0.0, nameDest='C1838584624', oldbalanceDest=6712063.65, newbalanceDest=8245234.16, prediction=0.0)\n",
      "Success: Row(step=6, type='TRANSFER', amount=487039.74, nameOrig='C1256806576', oldbalanceOrg=0.0, newbalanceOrig=0.0, nameDest='C1360767589', oldbalanceDest=1937267.2, newbalanceDest=5188539.32, prediction=0.0)\n",
      "Success: Row(step=6, type='TRANSFER', amount=185325.96, nameOrig='C1341158560', oldbalanceOrg=20306.0, newbalanceOrig=0.0, nameDest='C1632716597', oldbalanceDest=40900.93, newbalanceDest=226226.89, prediction=0.0)\n",
      "Success: Row(step=6, type='TRANSFER', amount=665949.93, nameOrig='C2087202342', oldbalanceOrg=0.0, newbalanceOrig=0.0, nameDest='C657736958', oldbalanceDest=5203102.94, newbalanceDest=5854252.35, prediction=0.0)\n",
      "Success: Row(step=6, type='PAYMENT', amount=8817.89, nameOrig='C873447850', oldbalanceOrg=239680.0, newbalanceOrig=230862.11, nameDest='M883110723', oldbalanceDest=0.0, newbalanceDest=0.0, prediction=0.0)\n"
     ]
    },
    {
     "name": "stdout",
     "output_type": "stream",
     "text": [
      "Success: Row(step=6, type='PAYMENT', amount=3724.19, nameOrig='C159851247', oldbalanceOrg=133160.0, newbalanceOrig=129435.81, nameDest='M1167987211', oldbalanceDest=0.0, newbalanceDest=0.0, prediction=0.0)\n",
      "Success: Row(step=6, type='PAYMENT', amount=7235.23, nameOrig='C265722243', oldbalanceOrg=11350.0, newbalanceOrig=4114.77, nameDest='M574790161', oldbalanceDest=0.0, newbalanceDest=0.0, prediction=0.0)\n",
      "Success: Row(step=6, type='PAYMENT', amount=10787.1, nameOrig='C477662472', oldbalanceOrg=32933.0, newbalanceOrig=22145.9, nameDest='M719068804', oldbalanceDest=0.0, newbalanceDest=0.0, prediction=0.0)\n",
      "Success: Row(step=6, type='PAYMENT', amount=3669.27, nameOrig='C308434156', oldbalanceOrg=193.0, newbalanceOrig=0.0, nameDest='M660144865', oldbalanceDest=0.0, newbalanceDest=0.0, prediction=0.0)\n",
      "Success: Row(step=6, type='PAYMENT', amount=16403.92, nameOrig='C714734087', oldbalanceOrg=21404.0, newbalanceOrig=5000.08, nameDest='M1169734591', oldbalanceDest=0.0, newbalanceDest=0.0, prediction=0.0)\n",
      "Success: Row(step=6, type='PAYMENT', amount=22187.74, nameOrig='C502296269', oldbalanceOrg=29962.0, newbalanceOrig=7774.26, nameDest='M1469217737', oldbalanceDest=0.0, newbalanceDest=0.0, prediction=0.0)\n",
      "Success: Row(step=6, type='PAYMENT', amount=25089.97, nameOrig='C842988286', oldbalanceOrg=30409.0, newbalanceOrig=5319.03, nameDest='M853264965', oldbalanceDest=0.0, newbalanceDest=0.0, prediction=0.0)\n",
      "Success: Row(step=6, type='CASH_OUT', amount=33275.35, nameOrig='C770164810', oldbalanceOrg=94853.92, newbalanceOrig=61578.57, nameDest='C560041895', oldbalanceDest=86070.17, newbalanceDest=119345.51, prediction=0.0)\n",
      "Success: Row(step=6, type='PAYMENT', amount=4147.08, nameOrig='C750996693', oldbalanceOrg=99001.0, newbalanceOrig=94853.92, nameDest='M1749755575', oldbalanceDest=0.0, newbalanceDest=0.0, prediction=0.0)\n",
      "Success: Row(step=6, type='PAYMENT', amount=21137.84, nameOrig='C1099081297', oldbalanceOrg=51245.0, newbalanceOrig=30107.16, nameDest='M2006056784', oldbalanceDest=0.0, newbalanceDest=0.0, prediction=0.0)\n",
      "Success: Row(step=6, type='PAYMENT', amount=600.58, nameOrig='C1188958603', oldbalanceOrg=30107.16, newbalanceOrig=29506.58, nameDest='M1432888450', oldbalanceDest=0.0, newbalanceDest=0.0, prediction=0.0)\n",
      "Success: Row(step=6, type='PAYMENT', amount=332.52, nameOrig='C17608784', oldbalanceOrg=322.0, newbalanceOrig=0.0, nameDest='M2040509534', oldbalanceDest=0.0, newbalanceDest=0.0, prediction=0.0)\n",
      "Success: Row(step=6, type='PAYMENT', amount=578.57, nameOrig='C1529070070', oldbalanceOrg=7007.0, newbalanceOrig=6428.43, nameDest='M1061774578', oldbalanceDest=0.0, newbalanceDest=0.0, prediction=0.0)\n",
      "Success: Row(step=6, type='CASH_OUT', amount=196477.41, nameOrig='C1333502127', oldbalanceOrg=0.0, newbalanceOrig=0.0, nameDest='C1085479446', oldbalanceDest=224064.0, newbalanceDest=565529.07, prediction=0.0)\n",
      "Success: Row(step=6, type='PAYMENT', amount=6469.74, nameOrig='C1005591041', oldbalanceOrg=126.0, newbalanceOrig=0.0, nameDest='M698133256', oldbalanceDest=0.0, newbalanceDest=0.0, prediction=0.0)\n",
      "Success: Row(step=6, type='PAYMENT', amount=7959.49, nameOrig='C1819665340', oldbalanceOrg=0.0, newbalanceOrig=0.0, nameDest='M409957428', oldbalanceDest=0.0, newbalanceDest=0.0, prediction=0.0)\n",
      "Success: Row(step=6, type='PAYMENT', amount=977.2, nameOrig='C594822442', oldbalanceOrg=0.0, newbalanceOrig=0.0, nameDest='M1878814375', oldbalanceDest=0.0, newbalanceDest=0.0, prediction=0.0)\n",
      "Success: Row(step=6, type='PAYMENT', amount=10933.93, nameOrig='C1311135309', oldbalanceOrg=47266.2, newbalanceOrig=36332.28, nameDest='M1109622904', oldbalanceDest=0.0, newbalanceDest=0.0, prediction=0.0)\n",
      "Success: Row(step=6, type='PAYMENT', amount=8325.8, nameOrig='C743901415', oldbalanceOrg=55592.0, newbalanceOrig=47266.2, nameDest='M1341785997', oldbalanceDest=0.0, newbalanceDest=0.0, prediction=0.0)\n",
      "Success: Row(step=6, type='PAYMENT', amount=2564.44, nameOrig='C1445443819', oldbalanceOrg=15256.0, newbalanceOrig=12691.56, nameDest='M1241385933', oldbalanceDest=0.0, newbalanceDest=0.0, prediction=0.0)\n",
      "Success: Row(step=6, type='PAYMENT', amount=29122.76, nameOrig='C890681473', oldbalanceOrg=11408.0, newbalanceOrig=0.0, nameDest='M1810419227', oldbalanceDest=0.0, newbalanceDest=0.0, prediction=0.0)\n",
      "Success: Row(step=6, type='PAYMENT', amount=32013.7, nameOrig='C14926701', oldbalanceOrg=30810.0, newbalanceOrig=0.0, nameDest='M964301023', oldbalanceDest=0.0, newbalanceDest=0.0, prediction=0.0)\n",
      "Success: Row(step=6, type='PAYMENT', amount=17110.72, nameOrig='C175881660', oldbalanceOrg=59859.0, newbalanceOrig=42748.28, nameDest='M1676585156', oldbalanceDest=0.0, newbalanceDest=0.0, prediction=0.0)\n",
      "Success: Row(step=6, type='PAYMENT', amount=13982.36, nameOrig='C967337409', oldbalanceOrg=10404.0, newbalanceOrig=0.0, nameDest='M337509625', oldbalanceDest=0.0, newbalanceDest=0.0, prediction=0.0)\n",
      "Success: Row(step=6, type='PAYMENT', amount=8912.09, nameOrig='C429018901', oldbalanceOrg=21388.0, newbalanceOrig=12475.91, nameDest='M1645449962', oldbalanceDest=0.0, newbalanceDest=0.0, prediction=0.0)\n",
      "Success: Row(step=6, type='PAYMENT', amount=10019.61, nameOrig='C894584137', oldbalanceOrg=16915.0, newbalanceOrig=6895.39, nameDest='M602694575', oldbalanceDest=0.0, newbalanceDest=0.0, prediction=0.0)\n",
      "Success: Row(step=6, type='PAYMENT', amount=21033.18, nameOrig='C671967776', oldbalanceOrg=325867.0, newbalanceOrig=304833.82, nameDest='M1459038473', oldbalanceDest=0.0, newbalanceDest=0.0, prediction=0.0)\n",
      "Success: Row(step=6, type='PAYMENT', amount=9352.62, nameOrig='C1921417851', oldbalanceOrg=20588.0, newbalanceOrig=11235.38, nameDest='M500580931', oldbalanceDest=0.0, newbalanceDest=0.0, prediction=0.0)\n",
      "Success: Row(step=6, type='PAYMENT', amount=12174.55, nameOrig='C1898469011', oldbalanceOrg=30037.0, newbalanceOrig=17862.45, nameDest='M832152066', oldbalanceDest=0.0, newbalanceDest=0.0, prediction=0.0)\n",
      "Success: Row(step=6, type='PAYMENT', amount=280.58, nameOrig='C788075428', oldbalanceOrg=125235.0, newbalanceOrig=124954.42, nameDest='M1376533963', oldbalanceDest=0.0, newbalanceDest=0.0, prediction=0.0)\n",
      "Success: Row(step=6, type='PAYMENT', amount=13101.5, nameOrig='C341829803', oldbalanceOrg=53057.0, newbalanceOrig=39955.5, nameDest='M993293369', oldbalanceDest=0.0, newbalanceDest=0.0, prediction=0.0)\n",
      "Success: Row(step=6, type='CASH_IN', amount=143165.59, nameOrig='C1563833544', oldbalanceOrg=39955.5, newbalanceOrig=183121.09, nameDest='C1721246982', oldbalanceDest=1010657.61, newbalanceDest=1515372.59, prediction=0.0)\n",
      "Success: Row(step=6, type='CASH_IN', amount=291681.95, nameOrig='C93720343', oldbalanceOrg=527557.73, newbalanceOrig=819239.69, nameDest='C997608398', oldbalanceDest=297874.5, newbalanceDest=6192.55, prediction=0.0)\n",
      "Success: Row(step=6, type='CASH_IN', amount=344436.64, nameOrig='C1852287168', oldbalanceOrg=183121.09, newbalanceOrig=527557.73, nameDest='C1590550415', oldbalanceDest=17966237.47, newbalanceDest=17811814.09, prediction=0.0)\n",
      "Success: Row(step=6, type='CASH_IN', amount=341884.94, nameOrig='C488322592', oldbalanceOrg=819239.69, newbalanceOrig=1161124.63, nameDest='C1167066016', oldbalanceDest=856828.97, newbalanceDest=576353.3, prediction=0.0)\n",
      "Success: Row(step=6, type='CASH_IN', amount=300026.34, nameOrig='C1911013695', oldbalanceOrg=1161124.63, newbalanceOrig=1461150.97, nameDest='C145693769', oldbalanceDest=398176.0, newbalanceDest=98149.66, prediction=0.0)\n",
      "Success: Row(step=6, type='CASH_IN', amount=67248.4, nameOrig='C580212331', oldbalanceOrg=1461150.97, newbalanceOrig=1528399.36, nameDest='C1829344035', oldbalanceDest=157867.82, newbalanceDest=90619.43, prediction=0.0)\n",
      "Success: Row(step=6, type='CASH_IN', amount=7159.95, nameOrig='C1403032934', oldbalanceOrg=1924605.13, newbalanceOrig=1931765.07, nameDest='C90250170', oldbalanceDest=15135.0, newbalanceDest=0.0, prediction=0.0)\n",
      "Success: Row(step=6, type='CASH_IN', amount=396205.76, nameOrig='C390994841', oldbalanceOrg=1528399.36, newbalanceOrig=1924605.13, nameDest='C769342184', oldbalanceDest=13049795.53, newbalanceDest=12782636.7, prediction=0.0)\n",
      "Success: Row(step=6, type='CASH_IN', amount=243542.61, nameOrig='C478238740', oldbalanceOrg=1931765.07, newbalanceOrig=2175307.69, nameDest='C1590550415', oldbalanceDest=17621800.82, newbalanceDest=17811814.09, prediction=0.0)\n"
     ]
    },
    {
     "name": "stdout",
     "output_type": "stream",
     "text": [
      "Success: Row(step=6, type='CASH_IN', amount=233628.2, nameOrig='C347042785', oldbalanceOrg=2175307.69, newbalanceOrig=2408935.89, nameDest='C1899073220', oldbalanceDest=3288831.78, newbalanceDest=3382000.83, prediction=0.0)\n",
      "Success: Row(step=6, type='CASH_IN', amount=424472.59, nameOrig='C1943679038', oldbalanceOrg=2408935.89, newbalanceOrig=2833408.48, nameDest='C248609774', oldbalanceDest=6515869.35, newbalanceDest=6739716.03, prediction=0.0)\n",
      "Success: Row(step=6, type='CASH_IN', amount=220733.04, nameOrig='C844185066', oldbalanceOrg=2833408.48, newbalanceOrig=3054141.52, nameDest='C1339858954', oldbalanceDest=226834.0, newbalanceDest=6100.96, prediction=0.0)\n",
      "Success: Row(step=6, type='CASH_IN', amount=120910.43, nameOrig='C604405894', oldbalanceOrg=2833408.48, newbalanceOrig=2833408.48, nameDest='C1636786811', oldbalanceDest=2833408.48, newbalanceDest=6703099.06, prediction=0.0)\n",
      "Success: Row(step=6, type='CASH_IN', amount=69196.27, nameOrig='C1561227322', oldbalanceOrg=3054141.52, newbalanceOrig=3123337.79, nameDest='C769342184', oldbalanceDest=12653589.77, newbalanceDest=12782636.7, prediction=0.0)\n",
      "Success: Row(step=6, type='CASH_IN', amount=138102.63, nameOrig='C2138562661', oldbalanceOrg=3123337.79, newbalanceOrig=3261440.41, nameDest='C701692548', oldbalanceDest=247029.0, newbalanceDest=22090.43, prediction=0.0)\n",
      "Success: Row(step=6, type='CASH_IN', amount=249043.84, nameOrig='C1868914109', oldbalanceOrg=3261440.41, newbalanceOrig=3510484.26, nameDest='C787033725', oldbalanceDest=646196.83, newbalanceDest=575658.59, prediction=0.0)\n",
      "Success: Row(step=6, type='CASH_IN', amount=224547.42, nameOrig='C2059515584', oldbalanceOrg=3793385.18, newbalanceOrig=4017932.6, nameDest='C1789550256', oldbalanceDest=2490718.59, newbalanceDest=3871016.4, prediction=0.0)\n",
      "Success: Row(step=6, type='CASH_IN', amount=282900.93, nameOrig='C1415611350', oldbalanceOrg=3510484.26, newbalanceOrig=3793385.18, nameDest='C1183572822', oldbalanceDest=412338.76, newbalanceDest=90698.78, prediction=0.0)\n",
      "Success: Row(step=6, type='CASH_IN', amount=114381.77, nameOrig='C980751669', oldbalanceOrg=4017932.6, newbalanceOrig=4132314.38, nameDest='C1477979030', oldbalanceDest=652770.01, newbalanceDest=9113630.99, prediction=0.0)\n",
      "Success: Row(step=6, type='CASH_IN', amount=87371.77, nameOrig='C2142777203', oldbalanceOrg=4132314.38, newbalanceOrig=4219686.15, nameDest='C1926673338', oldbalanceDest=204653.87, newbalanceDest=61676.39, prediction=0.0)\n",
      "Success: Row(step=6, type='CASH_IN', amount=4518.64, nameOrig='C789998945', oldbalanceOrg=4219686.15, newbalanceOrig=4224204.79, nameDest='C1246439562', oldbalanceDest=10034.0, newbalanceDest=0.0, prediction=0.0)\n",
      "Success: Row(step=6, type='CASH_IN', amount=106019.41, nameOrig='C1255723887', oldbalanceOrg=4320505.13, newbalanceOrig=4426524.54, nameDest='C1396827930', oldbalanceDest=287335.0, newbalanceDest=205908.67, prediction=0.0)\n",
      "Success: Row(step=6, type='CASH_IN', amount=96300.34, nameOrig='C1486273013', oldbalanceOrg=4224204.79, newbalanceOrig=4320505.13, nameDest='C1750563752', oldbalanceDest=425810.46, newbalanceDest=160101.66, prediction=0.0)\n",
      "Success: Row(step=6, type='CASH_IN', amount=14768.26, nameOrig='C1957019376', oldbalanceOrg=4426524.54, newbalanceOrig=4441292.8, nameDest='C665576141', oldbalanceDest=6227828.76, newbalanceDest=5954556.4, prediction=0.0)\n",
      "Success: Row(step=6, type='CASH_IN', amount=434517.44, nameOrig='C1757718624', oldbalanceOrg=4441292.8, newbalanceOrig=4875810.25, nameDest='C306206744', oldbalanceDest=7212719.44, newbalanceDest=6778202.0, prediction=0.0)\n",
      "Success: Row(step=6, type='CASH_IN', amount=8887.01, nameOrig='C91286940', oldbalanceOrg=4875810.25, newbalanceOrig=4884697.26, nameDest='C911998047', oldbalanceDest=15112.0, newbalanceDest=0.0, prediction=0.0)\n",
      "Success: Row(step=6, type='CASH_IN', amount=588327.76, nameOrig='C1345611807', oldbalanceOrg=4980367.78, newbalanceOrig=5568695.54, nameDest='C977993101', oldbalanceDest=962737.6, newbalanceDest=847149.78, prediction=0.0)\n",
      "Success: Row(step=6, type='CASH_IN', amount=95670.52, nameOrig='C155129334', oldbalanceOrg=4884697.26, newbalanceOrig=4980367.78, nameDest='C766681183', oldbalanceDest=12362816.81, newbalanceDest=13447674.95, prediction=0.0)\n",
      "Success: Row(step=6, type='CASH_IN', amount=290002.35, nameOrig='C503209425', oldbalanceOrg=5568695.54, newbalanceOrig=5858697.89, nameDest='C644345897', oldbalanceDest=652290.45, newbalanceDest=277219.24, prediction=0.0)\n",
      "Success: Row(step=6, type='PAYMENT', amount=1161.92, nameOrig='C534798335', oldbalanceOrg=53009.0, newbalanceOrig=51847.08, nameDest='M1845590352', oldbalanceDest=0.0, newbalanceDest=0.0, prediction=0.0)\n",
      "Success: Row(step=6, type='DEBIT', amount=7821.8, nameOrig='C486965279', oldbalanceOrg=19353.0, newbalanceOrig=11531.2, nameDest='C1814361629', oldbalanceDest=103160.0, newbalanceDest=110981.8, prediction=0.0)\n",
      "Success: Row(step=6, type='PAYMENT', amount=38755.91, nameOrig='C181784570', oldbalanceOrg=11603.0, newbalanceOrig=0.0, nameDest='M595239111', oldbalanceDest=0.0, newbalanceDest=0.0, prediction=0.0)\n",
      "Success: Row(step=6, type='PAYMENT', amount=8567.57, nameOrig='C1920554683', oldbalanceOrg=90854.0, newbalanceOrig=82286.43, nameDest='M1878782124', oldbalanceDest=0.0, newbalanceDest=0.0, prediction=0.0)\n",
      "Success: Row(step=6, type='PAYMENT', amount=29426.86, nameOrig='C462349981', oldbalanceOrg=100614.0, newbalanceOrig=71187.14, nameDest='M725617616', oldbalanceDest=0.0, newbalanceDest=0.0, prediction=0.0)\n",
      "Success: Row(step=6, type='PAYMENT', amount=22020.95, nameOrig='C265202525', oldbalanceOrg=72916.0, newbalanceOrig=50895.05, nameDest='M2034523899', oldbalanceDest=0.0, newbalanceDest=0.0, prediction=0.0)\n",
      "Success: Row(step=6, type='TRANSFER', amount=225464.91, nameOrig='C361948480', oldbalanceOrg=103559.0, newbalanceOrig=0.0, nameDest='C1297685781', oldbalanceDest=81276.96, newbalanceDest=542942.3, prediction=0.0)\n",
      "Success: Row(step=6, type='PAYMENT', amount=9557.31, nameOrig='C530681735', oldbalanceOrg=216577.0, newbalanceOrig=207019.69, nameDest='M496751062', oldbalanceDest=0.0, newbalanceDest=0.0, prediction=0.0)\n",
      "Success: Row(step=6, type='PAYMENT', amount=32189.93, nameOrig='C1042772649', oldbalanceOrg=214372.0, newbalanceOrig=182182.07, nameDest='M1145680499', oldbalanceDest=0.0, newbalanceDest=0.0, prediction=0.0)\n",
      "Success: Row(step=6, type='PAYMENT', amount=9313.43, nameOrig='C413944566', oldbalanceOrg=20988.0, newbalanceOrig=11674.57, nameDest='M293583290', oldbalanceDest=0.0, newbalanceDest=0.0, prediction=0.0)\n",
      "Success: Row(step=6, type='PAYMENT', amount=24261.25, nameOrig='C45207973', oldbalanceOrg=6092.0, newbalanceOrig=0.0, nameDest='M1105700164', oldbalanceDest=0.0, newbalanceDest=0.0, prediction=0.0)\n",
      "Success: Row(step=6, type='PAYMENT', amount=7876.6, nameOrig='C996584564', oldbalanceOrg=0.0, newbalanceOrig=0.0, nameDest='M1463316683', oldbalanceDest=0.0, newbalanceDest=0.0, prediction=0.0)\n",
      "Success: Row(step=6, type='PAYMENT', amount=50747.77, nameOrig='C691200351', oldbalanceOrg=0.0, newbalanceOrig=0.0, nameDest='M1033400986', oldbalanceDest=0.0, newbalanceDest=0.0, prediction=0.0)\n",
      "Success: Row(step=6, type='PAYMENT', amount=4103.11, nameOrig='C1535684464', oldbalanceOrg=0.0, newbalanceOrig=0.0, nameDest='M658107584', oldbalanceDest=0.0, newbalanceDest=0.0, prediction=0.0)\n",
      "Success: Row(step=6, type='PAYMENT', amount=24417.76, nameOrig='C594913654', oldbalanceOrg=0.0, newbalanceOrig=0.0, nameDest='M1271012916', oldbalanceDest=0.0, newbalanceDest=0.0, prediction=0.0)\n",
      "Success: Row(step=6, type='PAYMENT', amount=34389.04, nameOrig='C1967400458', oldbalanceOrg=0.0, newbalanceOrig=0.0, nameDest='M196511386', oldbalanceDest=0.0, newbalanceDest=0.0, prediction=0.0)\n",
      "Success: Row(step=6, type='PAYMENT', amount=4856.8, nameOrig='C84324483', oldbalanceOrg=0.0, newbalanceOrig=0.0, nameDest='M1592671657', oldbalanceDest=0.0, newbalanceDest=0.0, prediction=0.0)\n",
      "Success: Row(step=6, type='PAYMENT', amount=8564.52, nameOrig='C96591128', oldbalanceOrg=0.0, newbalanceOrig=0.0, nameDest='M711834492', oldbalanceDest=0.0, newbalanceDest=0.0, prediction=0.0)\n",
      "Success: Row(step=6, type='PAYMENT', amount=25388.91, nameOrig='C181281800', oldbalanceOrg=0.0, newbalanceOrig=0.0, nameDest='M896786845', oldbalanceDest=0.0, newbalanceDest=0.0, prediction=0.0)\n",
      "Success: Row(step=6, type='PAYMENT', amount=7605.58, nameOrig='C1366832221', oldbalanceOrg=0.0, newbalanceOrig=0.0, nameDest='M2066569446', oldbalanceDest=0.0, newbalanceDest=0.0, prediction=0.0)\n"
     ]
    },
    {
     "name": "stdout",
     "output_type": "stream",
     "text": [
      "Success: Row(step=6, type='PAYMENT', amount=7798.05, nameOrig='C1888449414', oldbalanceOrg=0.0, newbalanceOrig=0.0, nameDest='M931041456', oldbalanceDest=0.0, newbalanceDest=0.0, prediction=0.0)\n",
      "Success: Row(step=6, type='PAYMENT', amount=4276.93, nameOrig='C666144990', oldbalanceOrg=0.0, newbalanceOrig=0.0, nameDest='M919541414', oldbalanceDest=0.0, newbalanceDest=0.0, prediction=0.0)\n",
      "Success: Row(step=6, type='PAYMENT', amount=21300.1, nameOrig='C2103374275', oldbalanceOrg=0.0, newbalanceOrig=0.0, nameDest='M871019240', oldbalanceDest=0.0, newbalanceDest=0.0, prediction=0.0)\n",
      "Success: Row(step=6, type='PAYMENT', amount=6034.16, nameOrig='C1037521082', oldbalanceOrg=0.0, newbalanceOrig=0.0, nameDest='M2129636512', oldbalanceDest=0.0, newbalanceDest=0.0, prediction=0.0)\n",
      "Success: Row(step=6, type='PAYMENT', amount=9470.18, nameOrig='C884958895', oldbalanceOrg=0.0, newbalanceOrig=0.0, nameDest='M926303796', oldbalanceDest=0.0, newbalanceDest=0.0, prediction=0.0)\n",
      "Success: Row(step=6, type='PAYMENT', amount=21719.62, nameOrig='C1038907896', oldbalanceOrg=0.0, newbalanceOrig=0.0, nameDest='M1542975839', oldbalanceDest=0.0, newbalanceDest=0.0, prediction=0.0)\n",
      "Success: Row(step=6, type='PAYMENT', amount=2186.82, nameOrig='C347238032', oldbalanceOrg=0.0, newbalanceOrig=0.0, nameDest='M288398804', oldbalanceDest=0.0, newbalanceDest=0.0, prediction=0.0)\n",
      "Success: Row(step=6, type='PAYMENT', amount=2471.23, nameOrig='C739591432', oldbalanceOrg=0.0, newbalanceOrig=0.0, nameDest='M962507619', oldbalanceDest=0.0, newbalanceDest=0.0, prediction=0.0)\n",
      "Success: Row(step=6, type='PAYMENT', amount=9170.0, nameOrig='C1330447795', oldbalanceOrg=0.0, newbalanceOrig=0.0, nameDest='M735344652', oldbalanceDest=0.0, newbalanceDest=0.0, prediction=0.0)\n",
      "Success: Row(step=6, type='PAYMENT', amount=3850.05, nameOrig='C504973670', oldbalanceOrg=0.0, newbalanceOrig=0.0, nameDest='M369444529', oldbalanceDest=0.0, newbalanceDest=0.0, prediction=0.0)\n",
      "Success: Row(step=6, type='PAYMENT', amount=2496.08, nameOrig='C272530556', oldbalanceOrg=0.0, newbalanceOrig=0.0, nameDest='M1547112627', oldbalanceDest=0.0, newbalanceDest=0.0, prediction=0.0)\n",
      "Success: Row(step=6, type='PAYMENT', amount=4084.11, nameOrig='C145825834', oldbalanceOrg=0.0, newbalanceOrig=0.0, nameDest='M884858691', oldbalanceDest=0.0, newbalanceDest=0.0, prediction=0.0)\n",
      "Success: Row(step=6, type='PAYMENT', amount=3118.24, nameOrig='C845442767', oldbalanceOrg=0.0, newbalanceOrig=0.0, nameDest='M1761208327', oldbalanceDest=0.0, newbalanceDest=0.0, prediction=0.0)\n",
      "Success: Row(step=6, type='PAYMENT', amount=9158.69, nameOrig='C1468241972', oldbalanceOrg=0.0, newbalanceOrig=0.0, nameDest='M861255935', oldbalanceDest=0.0, newbalanceDest=0.0, prediction=0.0)\n",
      "Success: Row(step=6, type='PAYMENT', amount=6119.49, nameOrig='C594579220', oldbalanceOrg=0.0, newbalanceOrig=0.0, nameDest='M1039948229', oldbalanceDest=0.0, newbalanceDest=0.0, prediction=0.0)\n",
      "Success: Row(step=6, type='PAYMENT', amount=9474.34, nameOrig='C754932387', oldbalanceOrg=22435.0, newbalanceOrig=12960.66, nameDest='M190920427', oldbalanceDest=0.0, newbalanceDest=0.0, prediction=0.0)\n",
      "Success: Row(step=6, type='PAYMENT', amount=2006.1, nameOrig='C751702204', oldbalanceOrg=202.0, newbalanceOrig=0.0, nameDest='M1931691665', oldbalanceDest=0.0, newbalanceDest=0.0, prediction=0.0)\n",
      "Success: Row(step=6, type='TRANSFER', amount=130145.62, nameOrig='C2073830279', oldbalanceOrg=14281.0, newbalanceOrig=0.0, nameDest='C1531333864', oldbalanceDest=55974.56, newbalanceDest=189573.05, prediction=0.0)\n",
      "Success: Row(step=6, type='PAYMENT', amount=33019.3, nameOrig='C635379732', oldbalanceOrg=5677.0, newbalanceOrig=0.0, nameDest='M655068202', oldbalanceDest=0.0, newbalanceDest=0.0, prediction=0.0)\n",
      "Success: Row(step=6, type='PAYMENT', amount=8640.07, nameOrig='C316863915', oldbalanceOrg=0.0, newbalanceOrig=0.0, nameDest='M1315022947', oldbalanceDest=0.0, newbalanceDest=0.0, prediction=0.0)\n",
      "Success: Row(step=6, type='PAYMENT', amount=25691.16, nameOrig='C904927065', oldbalanceOrg=43605.0, newbalanceOrig=17913.84, nameDest='M803904123', oldbalanceDest=0.0, newbalanceDest=0.0, prediction=0.0)\n",
      "Success: Row(step=6, type='PAYMENT', amount=11971.97, nameOrig='C715160960', oldbalanceOrg=141440.0, newbalanceOrig=129468.03, nameDest='M1774316039', oldbalanceDest=0.0, newbalanceDest=0.0, prediction=0.0)\n",
      "Success: Row(step=6, type='PAYMENT', amount=1695.69, nameOrig='C244922133', oldbalanceOrg=0.0, newbalanceOrig=0.0, nameDest='M1752069395', oldbalanceDest=0.0, newbalanceDest=0.0, prediction=0.0)\n",
      "Success: Row(step=6, type='PAYMENT', amount=35551.62, nameOrig='C1555985081', oldbalanceOrg=196.0, newbalanceOrig=0.0, nameDest='M670827031', oldbalanceDest=0.0, newbalanceDest=0.0, prediction=0.0)\n",
      "Success: Row(step=6, type='PAYMENT', amount=2933.1, nameOrig='C1206577437', oldbalanceOrg=0.0, newbalanceOrig=0.0, nameDest='M12691277', oldbalanceDest=0.0, newbalanceDest=0.0, prediction=0.0)\n",
      "Success: Row(step=6, type='PAYMENT', amount=4357.61, nameOrig='C1193744863', oldbalanceOrg=40222.0, newbalanceOrig=35864.39, nameDest='M1559898821', oldbalanceDest=0.0, newbalanceDest=0.0, prediction=0.0)\n",
      "Success: Row(step=6, type='TRANSFER', amount=62574.57, nameOrig='C1288213062', oldbalanceOrg=16751.0, newbalanceOrig=0.0, nameDest='C127252077', oldbalanceDest=0.0, newbalanceDest=105984.74, prediction=0.0)\n",
      "Success: Row(step=6, type='TRANSFER', amount=25975.86, nameOrig='C864622150', oldbalanceOrg=25975.86, newbalanceOrig=0.0, nameDest='C41792607', oldbalanceDest=0.0, newbalanceDest=0.0, prediction=0.0)\n",
      "Success: Row(step=6, type='PAYMENT', amount=14432.84, nameOrig='C1094627165', oldbalanceOrg=0.0, newbalanceOrig=0.0, nameDest='M1042853700', oldbalanceDest=0.0, newbalanceDest=0.0, prediction=0.0)\n",
      "Success: Row(step=6, type='CASH_OUT', amount=25975.86, nameOrig='C1004271827', oldbalanceOrg=25975.86, newbalanceOrig=0.0, nameDest='C451934410', oldbalanceDest=98152.0, newbalanceDest=28041.27, prediction=0.0)\n",
      "Success: Row(step=6, type='PAYMENT', amount=4699.12, nameOrig='C254536882', oldbalanceOrg=20783.0, newbalanceOrig=16083.88, nameDest='M1954689180', oldbalanceDest=0.0, newbalanceDest=0.0, prediction=0.0)\n",
      "Success: Row(step=6, type='CASH_OUT', amount=11950.98, nameOrig='C255996780', oldbalanceOrg=16083.88, newbalanceOrig=4132.9, nameDest='C1675375648', oldbalanceDest=615126.57, newbalanceDest=271152.52, prediction=0.0)\n",
      "Success: Row(step=6, type='PAYMENT', amount=1667.26, nameOrig='C1590075830', oldbalanceOrg=31035.0, newbalanceOrig=29367.74, nameDest='M1073819729', oldbalanceDest=0.0, newbalanceDest=0.0, prediction=0.0)\n",
      "Success: Row(step=6, type='PAYMENT', amount=8927.92, nameOrig='C1799049015', oldbalanceOrg=21381.0, newbalanceOrig=12453.08, nameDest='M992309406', oldbalanceDest=0.0, newbalanceDest=0.0, prediction=0.0)\n",
      "Success: Row(step=6, type='PAYMENT', amount=669.31, nameOrig='C1911725457', oldbalanceOrg=10378.0, newbalanceOrig=9708.69, nameDest='M1631826609', oldbalanceDest=0.0, newbalanceDest=0.0, prediction=0.0)\n",
      "Success: Row(step=6, type='PAYMENT', amount=4204.86, nameOrig='C174285886', oldbalanceOrg=9708.69, newbalanceOrig=5503.83, nameDest='M1126780571', oldbalanceDest=0.0, newbalanceDest=0.0, prediction=0.0)\n",
      "Success: Row(step=6, type='PAYMENT', amount=17263.06, nameOrig='C651316602', oldbalanceOrg=36692.0, newbalanceOrig=19428.94, nameDest='M1517860139', oldbalanceDest=0.0, newbalanceDest=0.0, prediction=0.0)\n",
      "Success: Row(step=6, type='PAYMENT', amount=19937.81, nameOrig='C1987221006', oldbalanceOrg=276.0, newbalanceOrig=0.0, nameDest='M1773970438', oldbalanceDest=0.0, newbalanceDest=0.0, prediction=0.0)\n",
      "Success: Row(step=6, type='PAYMENT', amount=16865.33, nameOrig='C1269528782', oldbalanceOrg=2592.0, newbalanceOrig=0.0, nameDest='M1124055734', oldbalanceDest=0.0, newbalanceDest=0.0, prediction=0.0)\n",
      "Success: Row(step=6, type='CASH_IN', amount=289490.08, nameOrig='C2042744055', oldbalanceOrg=0.0, newbalanceOrig=289490.08, nameDest='C97730845', oldbalanceDest=14133982.62, newbalanceDest=13967310.03, prediction=0.0)\n",
      "Success: Row(step=6, type='CASH_IN', amount=302849.01, nameOrig='C1179968371', oldbalanceOrg=289490.08, newbalanceOrig=592339.09, nameDest='C451111351', oldbalanceDest=3678302.15, newbalanceDest=4654237.15, prediction=0.0)\n",
      "Success: Row(step=6, type='CASH_IN', amount=107980.36, nameOrig='C611639121', oldbalanceOrg=592339.09, newbalanceOrig=700319.45, nameDest='C202149782', oldbalanceDest=235617.37, newbalanceDest=211963.2, prediction=0.0)\n",
      "Success: Row(step=6, type='CASH_IN', amount=441551.13, nameOrig='C1605702850', oldbalanceOrg=840319.15, newbalanceOrig=1281870.28, nameDest='C1303868418', oldbalanceDest=4313939.72, newbalanceDest=3284714.1, prediction=0.0)\n",
      "Success: Row(step=6, type='CASH_IN', amount=139999.7, nameOrig='C677696333', oldbalanceOrg=700319.45, newbalanceOrig=840319.15, nameDest='C1816757085', oldbalanceDest=8743280.64, newbalanceDest=9563426.09, prediction=0.0)\n",
      "Success: Row(step=6, type='CASH_IN', amount=18061.72, nameOrig='C1050360636', oldbalanceOrg=1281870.28, newbalanceOrig=1299932.01, nameDest='C1129670968', oldbalanceDest=40331.09, newbalanceDest=22269.36, prediction=0.0)\n"
     ]
    },
    {
     "name": "stdout",
     "output_type": "stream",
     "text": [
      "Success: Row(step=6, type='CASH_IN', amount=57520.64, nameOrig='C1016591849', oldbalanceOrg=1299932.01, newbalanceOrig=1357452.65, nameDest='C1475395523', oldbalanceDest=218490.0, newbalanceDest=41304.43, prediction=0.0)\n",
      "Success: Row(step=6, type='CASH_IN', amount=44668.48, nameOrig='C854046605', oldbalanceOrg=1357452.65, newbalanceOrig=1402121.13, nameDest='C1789550256', oldbalanceDest=2266171.17, newbalanceDest=3871016.4, prediction=0.0)\n",
      "Success: Row(step=6, type='CASH_IN', amount=176065.68, nameOrig='C581318464', oldbalanceOrg=1653522.79, newbalanceOrig=1829588.47, nameDest='C1778801068', oldbalanceDest=8016369.59, newbalanceDest=7468357.55, prediction=0.0)\n",
      "Success: Row(step=6, type='CASH_IN', amount=251401.67, nameOrig='C1166259735', oldbalanceOrg=1402121.13, newbalanceOrig=1653522.79, nameDest='C1636786811', oldbalanceDest=5858697.89, newbalanceDest=6703099.06, prediction=0.0)\n",
      "Success: Row(step=6, type='CASH_IN', amount=112251.47, nameOrig='C555591232', oldbalanceOrg=1829588.47, newbalanceOrig=1941839.95, nameDest='C657736958', oldbalanceDest=5869052.87, newbalanceDest=5854252.35, prediction=0.0)\n",
      "Success: Row(step=6, type='CASH_IN', amount=182972.5, nameOrig='C784934449', oldbalanceOrg=1941839.95, newbalanceOrig=2124812.45, nameDest='C716083600', oldbalanceDest=1735094.17, newbalanceDest=1848371.68, prediction=0.0)\n",
      "Success: Row(step=6, type='CASH_IN', amount=60660.98, nameOrig='C1981943537', oldbalanceOrg=2124812.45, newbalanceOrig=2185473.43, nameDest='C252760149', oldbalanceDest=60891.0, newbalanceDest=0.0, prediction=0.0)\n",
      "Success: Row(step=6, type='CASH_IN', amount=130580.16, nameOrig='C693026321', oldbalanceOrg=2284420.42, newbalanceOrig=2415000.58, nameDest='C194746285', oldbalanceDest=344985.0, newbalanceDest=498474.72, prediction=0.0)\n",
      "Success: Row(step=6, type='CASH_IN', amount=98946.99, nameOrig='C1705847618', oldbalanceOrg=2185473.43, newbalanceOrig=2284420.42, nameDest='C1167066016', oldbalanceDest=514944.03, newbalanceDest=576353.3, prediction=0.0)\n",
      "Success: Row(step=6, type='CASH_IN', amount=112760.37, nameOrig='C1313992103', oldbalanceOrg=2415000.58, newbalanceOrig=2527760.95, nameDest='C697172013', oldbalanceDest=164021.0, newbalanceDest=0.0, prediction=0.0)\n",
      "Success: Row(step=6, type='CASH_IN', amount=109513.36, nameOrig='C677521178', oldbalanceOrg=2527760.95, newbalanceOrig=2637274.31, nameDest='C1013700132', oldbalanceDest=768299.0, newbalanceDest=1391946.72, prediction=0.0)\n",
      "Success: Row(step=6, type='CASH_IN', amount=515305.42, nameOrig='C605683311', oldbalanceOrg=2637274.31, newbalanceOrig=3152579.73, nameDest='C766681183', oldbalanceDest=12267146.28, newbalanceDest=13447674.95, prediction=0.0)\n",
      "Success: Row(step=6, type='CASH_IN', amount=202471.26, nameOrig='C965121190', oldbalanceOrg=3409010.17, newbalanceOrig=3611481.43, nameDest='C380242442', oldbalanceDest=221997.05, newbalanceDest=19525.79, prediction=0.0)\n",
      "Success: Row(step=6, type='CASH_IN', amount=256430.45, nameOrig='C2029744843', oldbalanceOrg=3152579.73, newbalanceOrig=3409010.17, nameDest='C1675375648', oldbalanceDest=627077.54, newbalanceDest=271152.52, prediction=0.0)\n",
      "Success: Row(step=6, type='CASH_IN', amount=49495.09, nameOrig='C6635131', oldbalanceOrg=3611481.43, newbalanceOrig=3660976.52, nameDest='C1899073220', oldbalanceDest=3055203.57, newbalanceDest=3382000.83, prediction=0.0)\n",
      "Success: Row(step=6, type='CASH_IN', amount=91904.46, nameOrig='C1801732766', oldbalanceOrg=3660976.52, newbalanceOrig=3752880.98, nameDest='C1360767589', oldbalanceDest=2424306.95, newbalanceDest=5188539.32, prediction=0.0)\n",
      "Success: Row(step=6, type='CASH_IN', amount=91867.6, nameOrig='C1219102739', oldbalanceOrg=3752880.98, newbalanceOrig=3844748.58, nameDest='C1360767589', oldbalanceDest=2332402.49, newbalanceDest=5188539.32, prediction=0.0)\n",
      "Success: Row(step=6, type='CASH_IN', amount=132375.3, nameOrig='C1824259625', oldbalanceOrg=3869833.32, newbalanceOrig=4002208.61, nameDest='C1094528209', oldbalanceDest=226198.62, newbalanceDest=93823.33, prediction=0.0)\n",
      "Success: Row(step=6, type='CASH_IN', amount=25084.74, nameOrig='C1166317060', oldbalanceOrg=3844748.58, newbalanceOrig=3869833.32, nameDest='C1892646174', oldbalanceDest=42105.0, newbalanceDest=17020.26, prediction=0.0)\n",
      "Success: Row(step=6, type='CASH_IN', amount=239959.98, nameOrig='C629289362', oldbalanceOrg=4002208.61, newbalanceOrig=4242168.6, nameDest='C1816757085', oldbalanceDest=8603280.94, newbalanceDest=9563426.09, prediction=0.0)\n",
      "Success: Row(step=6, type='CASH_IN', amount=224632.6, nameOrig='C1039159201', oldbalanceOrg=4242168.6, newbalanceOrig=4466801.19, nameDest='C1504109395', oldbalanceDest=1888133.08, newbalanceDest=2554285.76, prediction=0.0)\n",
      "Success: Row(step=6, type='CASH_IN', amount=100859.29, nameOrig='C1545984685', oldbalanceOrg=4466801.19, newbalanceOrig=4567660.48, nameDest='C932583850', oldbalanceDest=7435597.94, newbalanceDest=6724357.4, prediction=0.0)\n",
      "Success: Row(step=6, type='CASH_IN', amount=239954.21, nameOrig='C1541840766', oldbalanceOrg=4721609.94, newbalanceOrig=4961564.16, nameDest='C803116137', oldbalanceDest=13635531.1, newbalanceDest=15517661.96, prediction=0.0)\n",
      "Success: Row(step=6, type='CASH_IN', amount=153949.46, nameOrig='C1876700598', oldbalanceOrg=4567660.48, newbalanceOrig=4721609.94, nameDest='C1816757085', oldbalanceDest=8363320.96, newbalanceDest=9563426.09, prediction=0.0)\n",
      "Success: Row(step=6, type='CASH_IN', amount=214224.63, nameOrig='C1683246820', oldbalanceOrg=4961564.16, newbalanceOrig=5175788.78, nameDest='C803116137', oldbalanceDest=13395576.88, newbalanceDest=15517661.96, prediction=0.0)\n",
      "Success: Row(step=6, type='CASH_IN', amount=176828.46, nameOrig='C383127665', oldbalanceOrg=5175788.78, newbalanceOrig=5352617.24, nameDest='C1590550415', oldbalanceDest=17378258.21, newbalanceDest=17811814.09, prediction=0.0)\n",
      "Success: Row(step=6, type='CASH_IN', amount=163042.17, nameOrig='C409546368', oldbalanceOrg=5352617.24, newbalanceOrig=5515659.41, nameDest='C1668376627', oldbalanceDest=263249.39, newbalanceDest=100207.22, prediction=0.0)\n",
      "Success: Row(step=6, type='CASH_IN', amount=174123.67, nameOrig='C838733029', oldbalanceOrg=5584561.41, newbalanceOrig=5758685.08, nameDest='C1721246982', oldbalanceDest=867492.02, newbalanceDest=1515372.59, prediction=0.0)\n",
      "Success: Row(step=6, type='CASH_IN', amount=68902.0, nameOrig='C2006667164', oldbalanceOrg=5515659.41, newbalanceOrig=5584561.41, nameDest='C905650857', oldbalanceDest=109779.08, newbalanceDest=40877.08, prediction=0.0)\n",
      "Success: Row(step=6, type='CASH_IN', amount=158435.92, nameOrig='C395167539', oldbalanceOrg=5758685.08, newbalanceOrig=5917121.0, nameDest='C1590550415', oldbalanceDest=17201429.75, newbalanceDest=17811814.09, prediction=0.0)\n",
      "Success: Row(step=6, type='CASH_IN', amount=98239.33, nameOrig='C1178728044', oldbalanceOrg=5917121.0, newbalanceOrig=6015360.33, nameDest='C173783788', oldbalanceDest=418458.11, newbalanceDest=295284.85, prediction=0.0)\n",
      "Success: Row(step=6, type='CASH_IN', amount=65214.03, nameOrig='C710088247', oldbalanceOrg=6183195.8, newbalanceOrig=6248409.83, nameDest='C399685190', oldbalanceDest=118108.12, newbalanceDest=52894.1, prediction=0.0)\n",
      "Success: Row(step=6, type='CASH_IN', amount=167835.47, nameOrig='C1795925655', oldbalanceOrg=6015360.33, newbalanceOrig=6183195.8, nameDest='C1235151206', oldbalanceDest=237711.6, newbalanceDest=69876.14, prediction=0.0)\n",
      "Success: Row(step=6, type='CASH_IN', amount=75225.41, nameOrig='C1402923025', oldbalanceOrg=6248409.83, newbalanceOrig=6323635.24, nameDest='C54617902', oldbalanceDest=190333.91, newbalanceDest=115108.49, prediction=0.0)\n",
      "Success: Row(step=6, type='CASH_IN', amount=164319.6, nameOrig='C447059608', oldbalanceOrg=6323635.24, newbalanceOrig=6487954.84, nameDest='C909295153', oldbalanceDest=7197445.9, newbalanceDest=9197383.11, prediction=0.0)\n",
      "Success: Row(step=6, type='CASH_IN', amount=321219.34, nameOrig='C749515845', oldbalanceOrg=6487954.84, newbalanceOrig=6809174.18, nameDest='C1782113663', oldbalanceDest=1405554.64, newbalanceDest=1477358.35, prediction=0.0)\n",
      "Success: Row(step=6, type='CASH_IN', amount=164495.4, nameOrig='C981876983', oldbalanceOrg=6903802.87, newbalanceOrig=7068298.27, nameDest='C665576141', oldbalanceDest=6213060.5, newbalanceDest=5954556.4, prediction=0.0)\n",
      "Success: Row(step=6, type='CASH_IN', amount=94628.7, nameOrig='C511507785', oldbalanceOrg=6809174.18, newbalanceOrig=6903802.87, nameDest='C1820528317', oldbalanceDest=94725.0, newbalanceDest=0.0, prediction=0.0)\n",
      "Success: Row(step=6, type='CASH_IN', amount=162478.57, nameOrig='C211877993', oldbalanceOrg=7068298.27, newbalanceOrig=7230776.84, nameDest='C1778801068', oldbalanceDest=7840303.91, newbalanceDest=7468357.55, prediction=0.0)\n"
     ]
    },
    {
     "name": "stdout",
     "output_type": "stream",
     "text": [
      "Success: Row(step=6, type='CASH_IN', amount=51136.63, nameOrig='C1172738852', oldbalanceOrg=7230776.84, newbalanceOrig=7281913.46, nameDest='C1394526584', oldbalanceDest=275036.82, newbalanceDest=618730.52, prediction=0.0)\n",
      "Success: Row(step=6, type='CASH_IN', amount=47687.62, nameOrig='C1015658596', oldbalanceOrg=7281913.46, newbalanceOrig=7329601.08, nameDest='C800281454', oldbalanceDest=118172.98, newbalanceDest=70485.36, prediction=0.0)\n",
      "Success: Row(step=6, type='CASH_IN', amount=85068.86, nameOrig='C816196187', oldbalanceOrg=7334865.12, newbalanceOrig=7419933.98, nameDest='C644345897', oldbalanceDest=362288.1, newbalanceDest=277219.24, prediction=0.0)\n",
      "Success: Row(step=6, type='CASH_IN', amount=5264.04, nameOrig='C872470266', oldbalanceOrg=7329601.08, newbalanceOrig=7334865.12, nameDest='C1615535645', oldbalanceDest=7800.55, newbalanceDest=2536.51, prediction=0.0)\n",
      "Success: Row(step=6, type='CASH_IN', amount=133785.78, nameOrig='C1101590744', oldbalanceOrg=7419933.98, newbalanceOrig=7553719.76, nameDest='C985934102', oldbalanceDest=1589065.96, newbalanceDest=2941514.43, prediction=0.0)\n",
      "Success: Row(step=6, type='CASH_IN', amount=192005.11, nameOrig='C806566417', oldbalanceOrg=7553719.76, newbalanceOrig=7553719.76, nameDest='C1880332929', oldbalanceDest=7553719.76, newbalanceDest=11423976.98, prediction=0.0)\n",
      "Success: Row(step=6, type='CASH_IN', amount=42765.11, nameOrig='C35032559', oldbalanceOrg=7553719.76, newbalanceOrig=7596484.86, nameDest='C187019413', oldbalanceDest=179651.4, newbalanceDest=136886.29, prediction=0.0)\n",
      "Success: Row(step=6, type='CASH_IN', amount=55605.71, nameOrig='C97224064', oldbalanceOrg=7683320.81, newbalanceOrig=7738926.52, nameDest='C1926673338', oldbalanceDest=117282.1, newbalanceDest=61676.39, prediction=0.0)\n",
      "Success: Row(step=6, type='CASH_IN', amount=86835.95, nameOrig='C56859396', oldbalanceOrg=7596484.86, newbalanceOrig=7683320.81, nameDest='C701692548', oldbalanceDest=108926.37, newbalanceDest=22090.43, prediction=0.0)\n",
      "Success: Row(step=6, type='PAYMENT', amount=17757.06, nameOrig='C748807322', oldbalanceOrg=21802.0, newbalanceOrig=4044.94, nameDest='M451833108', oldbalanceDest=0.0, newbalanceDest=0.0, prediction=0.0)\n",
      "Success: Row(step=6, type='PAYMENT', amount=21695.54, nameOrig='C88764150', oldbalanceOrg=79440.0, newbalanceOrig=57744.46, nameDest='M1551109210', oldbalanceDest=0.0, newbalanceDest=0.0, prediction=0.0)\n",
      "Success: Row(step=6, type='PAYMENT', amount=28306.8, nameOrig='C2144511610', oldbalanceOrg=17488.0, newbalanceOrig=0.0, nameDest='M373158489', oldbalanceDest=0.0, newbalanceDest=0.0, prediction=0.0)\n",
      "Success: Row(step=6, type='PAYMENT', amount=9690.1, nameOrig='C1010618682', oldbalanceOrg=49685.0, newbalanceOrig=39994.9, nameDest='M1454854577', oldbalanceDest=0.0, newbalanceDest=0.0, prediction=0.0)\n",
      "Success: Row(step=6, type='CASH_IN', amount=221325.69, nameOrig='C1079378870', oldbalanceOrg=3130.0, newbalanceOrig=224455.69, nameDest='C1134894336', oldbalanceDest=2167.32, newbalanceDest=0.0, prediction=0.0)\n",
      "Success: Row(step=6, type='TRANSFER', amount=436099.98, nameOrig='C794942980', oldbalanceOrg=230.02, newbalanceOrig=0.0, nameDest='C503195940', oldbalanceDest=0.0, newbalanceDest=658963.55, prediction=0.0)\n",
      "Success: Row(step=6, type='PAYMENT', amount=1485.32, nameOrig='C1599747053', oldbalanceOrg=0.0, newbalanceOrig=0.0, nameDest='M95788093', oldbalanceDest=0.0, newbalanceDest=0.0, prediction=0.0)\n",
      "Success: Row(step=6, type='PAYMENT', amount=13193.64, nameOrig='C1776512995', oldbalanceOrg=6035.0, newbalanceOrig=0.0, nameDest='M1221795109', oldbalanceDest=0.0, newbalanceDest=0.0, prediction=0.0)\n",
      "Success: Row(step=6, type='PAYMENT', amount=6846.62, nameOrig='C487277691', oldbalanceOrg=11176.0, newbalanceOrig=4329.38, nameDest='M1306613962', oldbalanceDest=0.0, newbalanceDest=0.0, prediction=0.0)\n",
      "Success: Row(step=6, type='PAYMENT', amount=8945.23, nameOrig='C1176013449', oldbalanceOrg=0.0, newbalanceOrig=0.0, nameDest='M1868931587', oldbalanceDest=0.0, newbalanceDest=0.0, prediction=0.0)\n",
      "Success: Row(step=6, type='PAYMENT', amount=4315.05, nameOrig='C1328537405', oldbalanceOrg=4329.38, newbalanceOrig=14.33, nameDest='M219679073', oldbalanceDest=0.0, newbalanceDest=0.0, prediction=0.0)\n",
      "Success: Row(step=6, type='PAYMENT', amount=5023.42, nameOrig='C1257745445', oldbalanceOrg=25574.0, newbalanceOrig=20550.58, nameDest='M228035257', oldbalanceDest=0.0, newbalanceDest=0.0, prediction=0.0)\n",
      "Success: Row(step=6, type='PAYMENT', amount=11985.99, nameOrig='C1022388737', oldbalanceOrg=199406.0, newbalanceOrig=187420.01, nameDest='M1911435263', oldbalanceDest=0.0, newbalanceDest=0.0, prediction=0.0)\n",
      "Success: Row(step=6, type='PAYMENT', amount=13737.03, nameOrig='C140736469', oldbalanceOrg=687467.0, newbalanceOrig=673729.97, nameDest='M141697265', oldbalanceDest=0.0, newbalanceDest=0.0, prediction=0.0)\n",
      "Success: Row(step=6, type='PAYMENT', amount=233.28, nameOrig='C110044003', oldbalanceOrg=98837.0, newbalanceOrig=98603.72, nameDest='M939303753', oldbalanceDest=0.0, newbalanceDest=0.0, prediction=0.0)\n",
      "Success: Row(step=6, type='PAYMENT', amount=30269.19, nameOrig='C2006552231', oldbalanceOrg=67241.0, newbalanceOrig=36971.81, nameDest='M623742454', oldbalanceDest=0.0, newbalanceDest=0.0, prediction=0.0)\n",
      "Success: Row(step=6, type='PAYMENT', amount=4419.68, nameOrig='C912493401', oldbalanceOrg=741.0, newbalanceOrig=0.0, nameDest='M797917388', oldbalanceDest=0.0, newbalanceDest=0.0, prediction=0.0)\n",
      "Success: Row(step=6, type='PAYMENT', amount=12757.0, nameOrig='C349708076', oldbalanceOrg=478.0, newbalanceOrig=0.0, nameDest='M1574138492', oldbalanceDest=0.0, newbalanceDest=0.0, prediction=0.0)\n",
      "Success: Row(step=6, type='PAYMENT', amount=5885.13, nameOrig='C1995042520', oldbalanceOrg=13147.0, newbalanceOrig=7261.87, nameDest='M820982507', oldbalanceDest=0.0, newbalanceDest=0.0, prediction=0.0)\n",
      "Success: Row(step=6, type='PAYMENT', amount=32087.48, nameOrig='C2000688092', oldbalanceOrg=16876.0, newbalanceOrig=0.0, nameDest='M580695256', oldbalanceDest=0.0, newbalanceDest=0.0, prediction=0.0)\n",
      "Success: Row(step=6, type='PAYMENT', amount=6742.04, nameOrig='C1195776473', oldbalanceOrg=26102.0, newbalanceOrig=19359.96, nameDest='M12279709', oldbalanceDest=0.0, newbalanceDest=0.0, prediction=0.0)\n",
      "Success: Row(step=6, type='PAYMENT', amount=23869.55, nameOrig='C958267004', oldbalanceOrg=61978.0, newbalanceOrig=38108.45, nameDest='M1881996254', oldbalanceDest=0.0, newbalanceDest=0.0, prediction=0.0)\n",
      "Success: Row(step=6, type='TRANSFER', amount=19496.78, nameOrig='C131316947', oldbalanceOrg=12256.0, newbalanceOrig=0.0, nameDest='C1321530272', oldbalanceDest=17666.19, newbalanceDest=37162.97, prediction=0.0)\n",
      "Success: Row(step=6, type='PAYMENT', amount=7193.03, nameOrig='C192329688', oldbalanceOrg=21448.0, newbalanceOrig=14254.97, nameDest='M471031651', oldbalanceDest=0.0, newbalanceDest=0.0, prediction=0.0)\n",
      "Success: Row(step=6, type='TRANSFER', amount=165344.97, nameOrig='C1573805059', oldbalanceOrg=15818.0, newbalanceOrig=0.0, nameDest='C878506901', oldbalanceDest=0.0, newbalanceDest=165344.97, prediction=0.0)\n",
      "Success: Row(step=6, type='PAYMENT', amount=18266.81, nameOrig='C104615190', oldbalanceOrg=14254.97, newbalanceOrig=0.0, nameDest='M700262294', oldbalanceDest=0.0, newbalanceDest=0.0, prediction=0.0)\n",
      "Success: Row(step=6, type='PAYMENT', amount=16396.14, nameOrig='C390827278', oldbalanceOrg=27740.0, newbalanceOrig=11343.86, nameDest='M287649987', oldbalanceDest=0.0, newbalanceDest=0.0, prediction=0.0)\n",
      "Success: Row(step=6, type='PAYMENT', amount=4218.37, nameOrig='C1972738828', oldbalanceOrg=11343.86, newbalanceOrig=7125.49, nameDest='M894735295', oldbalanceDest=0.0, newbalanceDest=0.0, prediction=0.0)\n",
      "Success: Row(step=6, type='PAYMENT', amount=8527.96, nameOrig='C523461097', oldbalanceOrg=0.0, newbalanceOrig=0.0, nameDest='M250331355', oldbalanceDest=0.0, newbalanceDest=0.0, prediction=0.0)\n",
      "Success: Row(step=6, type='PAYMENT', amount=23704.62, nameOrig='C2126273510', oldbalanceOrg=19863.0, newbalanceOrig=0.0, nameDest='M1177018330', oldbalanceDest=0.0, newbalanceDest=0.0, prediction=0.0)\n",
      "Success: Row(step=6, type='PAYMENT', amount=3704.47, nameOrig='C303352203', oldbalanceOrg=37684.0, newbalanceOrig=33979.53, nameDest='M1790250268', oldbalanceDest=0.0, newbalanceDest=0.0, prediction=0.0)\n"
     ]
    },
    {
     "name": "stdout",
     "output_type": "stream",
     "text": [
      "Success: Row(step=6, type='CASH_OUT', amount=148971.75, nameOrig='C1846347146', oldbalanceOrg=33979.53, newbalanceOrig=0.0, nameDest='C481402298', oldbalanceDest=287165.23, newbalanceDest=2274476.83, prediction=0.0)\n",
      "Success: Row(step=6, type='CASH_IN', amount=385890.6, nameOrig='C1051786632', oldbalanceOrg=4322.0, newbalanceOrig=390212.6, nameDest='C304406966', oldbalanceDest=55452.0, newbalanceDest=0.0, prediction=0.0)\n",
      "Success: Row(step=6, type='PAYMENT', amount=28369.96, nameOrig='C1315209017', oldbalanceOrg=66292.0, newbalanceOrig=37922.04, nameDest='M2004981696', oldbalanceDest=0.0, newbalanceDest=0.0, prediction=0.0)\n",
      "Success: Row(step=6, type='PAYMENT', amount=32168.72, nameOrig='C182203204', oldbalanceOrg=559.0, newbalanceOrig=0.0, nameDest='M1212351214', oldbalanceDest=0.0, newbalanceDest=0.0, prediction=0.0)\n",
      "Success: Row(step=6, type='CASH_OUT', amount=8013.4, nameOrig='C472702055', oldbalanceOrg=37922.04, newbalanceOrig=29908.64, nameDest='C478124129', oldbalanceDest=98714.61, newbalanceDest=58452.12, prediction=0.0)\n",
      "Success: Row(step=6, type='PAYMENT', amount=28410.56, nameOrig='C1277753726', oldbalanceOrg=6209.0, newbalanceOrig=0.0, nameDest='M567859829', oldbalanceDest=0.0, newbalanceDest=0.0, prediction=0.0)\n",
      "Success: Row(step=6, type='PAYMENT', amount=6909.4, nameOrig='C1511814681', oldbalanceOrg=50799.0, newbalanceOrig=43889.6, nameDest='M547964633', oldbalanceDest=0.0, newbalanceDest=0.0, prediction=0.0)\n",
      "Success: Row(step=6, type='TRANSFER', amount=326538.62, nameOrig='C1966657510', oldbalanceOrg=6576.0, newbalanceOrig=0.0, nameDest='C1038678108', oldbalanceDest=1122.0, newbalanceDest=0.0, prediction=0.0)\n",
      "Success: Row(step=6, type='PAYMENT', amount=13275.38, nameOrig='C725727419', oldbalanceOrg=35.0, newbalanceOrig=0.0, nameDest='M1286460628', oldbalanceDest=0.0, newbalanceDest=0.0, prediction=0.0)\n",
      "Success: Row(step=6, type='PAYMENT', amount=11124.47, nameOrig='C525193238', oldbalanceOrg=30085.0, newbalanceOrig=18960.53, nameDest='M963585828', oldbalanceDest=0.0, newbalanceDest=0.0, prediction=0.0)\n",
      "Success: Row(step=6, type='TRANSFER', amount=26768.5, nameOrig='C457596841', oldbalanceOrg=26768.5, newbalanceOrig=0.0, nameDest='C1956477953', oldbalanceDest=0.0, newbalanceDest=0.0, prediction=0.0)\n",
      "Success: Row(step=6, type='CASH_OUT', amount=26768.5, nameOrig='C682812632', oldbalanceOrg=26768.5, newbalanceOrig=0.0, nameDest='C256417920', oldbalanceDest=101976.0, newbalanceDest=128744.5, prediction=0.0)\n",
      "Success: Row(step=6, type='PAYMENT', amount=7771.86, nameOrig='C806005031', oldbalanceOrg=24428.0, newbalanceOrig=16656.14, nameDest='M262217690', oldbalanceDest=0.0, newbalanceDest=0.0, prediction=0.0)\n",
      "Success: Row(step=6, type='PAYMENT', amount=19481.86, nameOrig='C1502502072', oldbalanceOrg=8994.0, newbalanceOrig=0.0, nameDest='M429393578', oldbalanceDest=0.0, newbalanceDest=0.0, prediction=0.0)\n",
      "Success: Row(step=6, type='PAYMENT', amount=3249.87, nameOrig='C618785034', oldbalanceOrg=262048.0, newbalanceOrig=258798.13, nameDest='M2106922602', oldbalanceDest=0.0, newbalanceDest=0.0, prediction=0.0)\n",
      "Success: Row(step=6, type='PAYMENT', amount=24487.72, nameOrig='C414440302', oldbalanceOrg=31038.0, newbalanceOrig=6550.28, nameDest='M535517293', oldbalanceDest=0.0, newbalanceDest=0.0, prediction=0.0)\n"
     ]
    }
   ],
   "source": [
    "streamingSparkContext.start()             # Start the computation\n",
    "streamingSparkContext.awaitTermination()  # Wait for the computation to terminate"
   ]
  }
 ],
 "metadata": {
  "kernelspec": {
   "display_name": "Python 3",
   "language": "python",
   "name": "python3"
  },
  "language_info": {
   "codemirror_mode": {
    "name": "ipython",
    "version": 3
   },
   "file_extension": ".py",
   "mimetype": "text/x-python",
   "name": "python",
   "nbconvert_exporter": "python",
   "pygments_lexer": "ipython3",
   "version": "3.7.3"
  }
 },
 "nbformat": 4,
 "nbformat_minor": 2
}
